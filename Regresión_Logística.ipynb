{
  "nbformat": 4,
  "nbformat_minor": 0,
  "metadata": {
    "colab": {
      "provenance": []
    },
    "kernelspec": {
      "name": "python3",
      "display_name": "Python 3"
    },
    "language_info": {
      "name": "python"
    }
  },
  "cells": [
    {
      "cell_type": "code",
      "execution_count": 50,
      "metadata": {
        "colab": {
          "base_uri": "https://localhost:8080/"
        },
        "id": "z80onu-82tGj",
        "outputId": "6782a44d-38f8-4f8a-e6b3-27373cd6517c"
      },
      "outputs": [
        {
          "output_type": "stream",
          "name": "stderr",
          "text": [
            "/usr/local/lib/python3.11/dist-packages/openpyxl/styles/stylesheet.py:237: UserWarning: Workbook contains no default style, apply openpyxl's default\n",
            "  warn(\"Workbook contains no default style, apply openpyxl's default\")\n"
          ]
        },
        {
          "output_type": "stream",
          "name": "stdout",
          "text": [
            "    Unnamed: 0 default student      balance        income\n",
            "0            1      No      No   729.526495  44361.625074\n",
            "1            2      No     Yes   817.180407  12106.134700\n",
            "2            3      No      No  1073.549164  31767.138947\n",
            "3            4      No      No   529.250605  35704.493935\n",
            "4            5      No      No   785.655883  38463.495879\n",
            "5            6      No     Yes   919.588530   7491.558572\n",
            "6            7      No      No   825.513331  24905.226578\n",
            "7            8      No     Yes   808.667504  17600.451344\n",
            "8            9      No      No  1161.057854  37468.529288\n",
            "9           10      No      No     0.000000  29275.268293\n",
            "10          11      No     Yes     0.000000  21871.073089\n",
            "11          12      No     Yes  1220.583753  13268.562221\n",
            "12          13      No      No   237.045114  28251.695345\n",
            "13          14      No      No   606.742343  44994.555849\n",
            "14          15      No      No  1112.968401  23810.174050\n",
            "15          16      No      No   286.232560  45042.413036\n",
            "16          17      No      No     0.000000  50265.312354\n",
            "17          18      No     Yes   527.540184  17636.539617\n",
            "18          19      No      No   485.936864  61566.106118\n",
            "19          20      No      No  1095.072735  26464.631389\n"
          ]
        }
      ],
      "source": [
        "import pandas as pd\n",
        "\n",
        "#cargar archivo\n",
        "data = pd.read_excel (\"default.xlsx\", header=0)\n",
        "\n",
        "print (data.head(20))"
      ]
    },
    {
      "cell_type": "code",
      "source": [
        "#eliminacion de nulos\n",
        "data = data.dropna()\n",
        "\n",
        "#codificacion\n",
        "\n",
        "data['student'] = data['student'].map({'No': 0, 'Yes': 1})\n",
        "data['default'] = data['default'].map({'No': 0, 'Yes': 1})\n",
        "\n",
        "print(data.head())\n",
        "\n",
        "from sklearn.preprocessing import StandardScaler\n",
        "\n",
        "# Columnas numéricas\n",
        "numerical_columns = ['balance', 'income']\n",
        "\n",
        "# Inicializar el escalador\n",
        "scaler = StandardScaler()\n",
        "\n",
        "# Escalar las características numéricas\n",
        "data[numerical_columns] = scaler.fit_transform(data[numerical_columns])\n",
        "\n",
        "print(data.head())\n"
      ],
      "metadata": {
        "colab": {
          "base_uri": "https://localhost:8080/"
        },
        "id": "JsqOF3Rh6rIh",
        "outputId": "6410110d-659a-411a-af07-54b048038959"
      },
      "execution_count": 51,
      "outputs": [
        {
          "output_type": "stream",
          "name": "stdout",
          "text": [
            "   Unnamed: 0  default  student      balance        income\n",
            "0           1        0        0   729.526495  44361.625074\n",
            "1           2        0        1   817.180407  12106.134700\n",
            "2           3        0        0  1073.549164  31767.138947\n",
            "3           4        0        0   529.250605  35704.493935\n",
            "4           5        0        0   785.655883  38463.495879\n",
            "   Unnamed: 0  default  student   balance    income\n",
            "0           1        0        0 -0.218835  0.813187\n",
            "1           2        0        1 -0.037616 -1.605496\n",
            "2           3        0        0  0.492410 -0.131212\n",
            "3           4        0        0 -0.632893  0.164031\n",
            "4           5        0        0 -0.102791  0.370915\n"
          ]
        }
      ]
    },
    {
      "cell_type": "code",
      "source": [],
      "metadata": {
        "id": "tJ8UjuWu-3zH"
      },
      "execution_count": null,
      "outputs": []
    },
    {
      "cell_type": "code",
      "source": [
        "from sklearn.model_selection import train_test_split\n",
        "# Definir variables\n",
        "X = data[['balance', 'income', 'student']]  # Características\n",
        "y = data['default']  # objetivo\n",
        "\n",
        "# Dividir los datos en conjunto de entrenamiento y conjunto de prueba\n",
        "X_train, X_test, y_train, y_test = train_test_split(X, y, test_size=0.2, random_state=47)\n"
      ],
      "metadata": {
        "id": "BsbhSQWZ9lN6"
      },
      "execution_count": 52,
      "outputs": []
    },
    {
      "cell_type": "code",
      "source": [
        "#Creación del Modelo:\n",
        "from sklearn.linear_model import LogisticRegression\n",
        "\n",
        "# Crear un modelo de regresión logística\n",
        "model = LogisticRegression()\n",
        "\n",
        "# Entrenar el modelo con los datos de entrenamiento\n",
        "model.fit (X_train, y_train)\n",
        "\n",
        "#predicciones\n",
        "y_pred = model.predict(X_test)\n",
        "\n",
        "#probabilidades\n",
        "y_pred_prob = model.predict_proba(X_test)\n",
        "\n",
        "#matriz de confusion\n",
        "from sklearn.metrics import confusion_matrix\n",
        "confusion_matrix(y_test, y_pred)\n",
        "\n",
        "#informe de clasificacion\n",
        "from sklearn.metrics import classification_report\n",
        "print(classification_report(y_test, y_pred))\n",
        "\n",
        "from sklearn.metrics import confusion_matrix, accuracy_score, precision_score, recall_score, f1_score\n",
        "\n",
        "#precisión\n",
        "precision = precision_score(y_test, y_pred)\n",
        "print(\"Precision:\", precision)\n",
        "\n",
        "#exactitud\n",
        "accuracy = accuracy_score(y_test, y_pred)\n",
        "print(\"Accuracy:\", accuracy)\n",
        "\n",
        "#sensibilidad\n",
        "recall = recall_score(y_test, y_pred)\n",
        "print(\"Sensibilidad:\", recall)\n",
        "\n",
        "#puntuación F1\n",
        "f1 = f1_score(y_test, y_pred)\n",
        "print(\"Puntuación F1:\", f1)\n",
        "\n",
        "#especificidad\n",
        "tn, fp, fn, tp = confusion_matrix(y_test, y_pred).ravel()\n",
        "specificity = tn / (tn + fp)\n",
        "print(\"Especificidad:\", specificity)\n",
        "\n",
        "#puntuación de precisión general.\n",
        "from sklearn.metrics import precision_score\n",
        "precision = precision_score(y_test, y_pred, average='weighted')\n",
        "print(\"Puntuación de precisión general:\", precision)\n",
        "\n"
      ],
      "metadata": {
        "colab": {
          "base_uri": "https://localhost:8080/"
        },
        "id": "rL6rpXf694i1",
        "outputId": "b4a4bc0e-1fc8-4ef4-9404-ffa3ab0a7682"
      },
      "execution_count": 60,
      "outputs": [
        {
          "output_type": "stream",
          "name": "stdout",
          "text": [
            "              precision    recall  f1-score   support\n",
            "\n",
            "           0       0.98      1.00      0.99      1930\n",
            "           1       0.81      0.31      0.45        70\n",
            "\n",
            "    accuracy                           0.97      2000\n",
            "   macro avg       0.90      0.66      0.72      2000\n",
            "weighted avg       0.97      0.97      0.97      2000\n",
            "\n",
            "Precision: 0.8148148148148148\n",
            "Accuracy: 0.9735\n",
            "Sensibilidad: 0.3142857142857143\n",
            "Puntuación F1: 0.4536082474226804\n",
            "Especificidad: 0.9974093264248705\n",
            "Puntuación de precisión general: 0.9700415798464456\n"
          ]
        }
      ]
    },
    {
      "cell_type": "code",
      "source": [
        "#statsmodel\n",
        "import statsmodels.api as sm\n",
        "\n",
        "# Agregar constante para la regresión logística\n",
        "X_train_const = sm.add_constant(X_train)\n",
        "\n",
        "# Entrenar modelo con statsmodels\n",
        "model_statsmodels = sm.Logit(y_train, X_train_const)\n",
        "result = model_statsmodels.fit()\n",
        "\n",
        "# Mostrar resumen del modelo\n",
        "print(result.summary())\n",
        "\n",
        "# Predicciones en el conjunto de prueba\n",
        "X_test_const = sm.add_constant(X_test)\n",
        "y_pred_prob = result.predict(X_test_const)\n",
        "y_pred_statsmodels = (y_pred_prob >= 0.5).astype(int)\n",
        "\n",
        "# Evaluación del modelo\n",
        "accuracy_stats = accuracy_score(y_test, y_pred_statsmodels)\n",
        "precision_stats = precision_score(y_test, y_pred_statsmodels)\n",
        "recall_stats = recall_score(y_test, y_pred_statsmodels)\n",
        "tn, fp, fn, tp = confusion_matrix(y_test, y_pred_statsmodels).ravel()\n",
        "specificity_stats = tn / (tn + fp)\n",
        "\n",
        "# Mostrar resultados\n",
        "print(f\"Accuracy: {accuracy_stats:.2f}\")\n",
        "print(f\"Precision: {precision_stats:.2f}\")\n",
        "print(f\"Recall (Sensibilidad): {recall_stats:.2f}\")\n",
        "print(f\"Specificity (Especificidad): {specificity_stats:.2f}\")"
      ],
      "metadata": {
        "colab": {
          "base_uri": "https://localhost:8080/"
        },
        "id": "zB0VIGKwCiNs",
        "outputId": "90c41ad5-9450-4684-80ac-8c37511b6f47"
      },
      "execution_count": 59,
      "outputs": [
        {
          "output_type": "stream",
          "name": "stdout",
          "text": [
            "Optimization terminated successfully.\n",
            "         Current function value: 0.078622\n",
            "         Iterations 10\n",
            "                           Logit Regression Results                           \n",
            "==============================================================================\n",
            "Dep. Variable:                default   No. Observations:                 8000\n",
            "Model:                          Logit   Df Residuals:                     7996\n",
            "Method:                           MLE   Df Model:                            3\n",
            "Date:                Sat, 01 Mar 2025   Pseudo R-squ.:                  0.4563\n",
            "Time:                        04:50:47   Log-Likelihood:                -628.97\n",
            "converged:                       True   LL-Null:                       -1156.8\n",
            "Covariance Type:            nonrobust   LLR p-value:                1.544e-228\n",
            "==============================================================================\n",
            "                 coef    std err          z      P>|z|      [0.025      0.975]\n",
            "------------------------------------------------------------------------------\n",
            "const         -5.9854      0.217    -27.614      0.000      -6.410      -5.561\n",
            "balance        2.7522      0.125     22.047      0.000       2.508       2.997\n",
            "income         0.0444      0.123      0.360      0.719      -0.197       0.286\n",
            "student       -0.6097      0.264     -2.308      0.021      -1.127      -0.092\n",
            "==============================================================================\n",
            "\n",
            "Possibly complete quasi-separation: A fraction 0.14 of observations can be\n",
            "perfectly predicted. This might indicate that there is complete\n",
            "quasi-separation. In this case some parameters will not be identified.\n",
            "Accuracy: 0.97\n",
            "Precision: 0.81\n",
            "Recall (Sensibilidad): 0.31\n",
            "Specificity (Especificidad): 1.00\n"
          ]
        }
      ]
    },
    {
      "cell_type": "code",
      "source": [
        "#Comparación\n",
        "print(\"Accuracy Sklearn:\", accuracy)\n",
        "print(f\"Accuracy statsmodels: {accuracy_stats:.2f}\")\n",
        "\n",
        "print(\"Precision Sklearn:\", precision)\n",
        "print(f\"Precision statsmodels: {precision_stats:.2f}\")\n",
        "\n",
        "print(\"Sensibilidad Sklearn:\", recall)\n",
        "print(f\"Sensibilidad statsmodels: {recall_stats:.2f}\")\n",
        "\n",
        "print(\"Puntuación F1 Sklearn:\", f1)\n",
        "print(f\"Puntuación F1 statsmodels: {f1:.2f}\")\n",
        "\n",
        "print(\"Especificidad Sklearn:\", specificity)\n",
        "print(f\"Especificidad statsmodels: {specificity:.2f}\")\n",
        "\n",
        "print(\"Puntuación de precisión general Sklearn:\", precision)\n",
        "print(f\"Puntuación de precisión general statsmodels: {precision_stats:.2f}\")\n",
        "\n",
        "\n",
        "print (\"Los resultados son similares\")"
      ],
      "metadata": {
        "colab": {
          "base_uri": "https://localhost:8080/"
        },
        "id": "ychLCXPADjZ2",
        "outputId": "265581cf-3c2b-4635-e5e8-4130f786776d"
      },
      "execution_count": 63,
      "outputs": [
        {
          "output_type": "stream",
          "name": "stdout",
          "text": [
            "Accuracy Sklearn: 0.9735\n",
            "Accuracy statsmodels: 0.97\n",
            "Precision Sklearn: 0.9700415798464456\n",
            "Precision statsmodels: 0.81\n",
            "Sensibilidad Sklearn: 0.3142857142857143\n",
            "Sensibilidad statsmodels: 0.31\n",
            "Puntuación F1 Sklearn: 0.4536082474226804\n",
            "Puntuación F1 statsmodels: 0.45\n",
            "Especificidad Sklearn: 0.9974093264248705\n",
            "Especificidad statsmodels: 1.00\n",
            "Puntuación de precisión general Sklearn: 0.9700415798464456\n",
            "Puntuación de precisión general statsmodels: 0.81\n",
            "Los resultados son similares\n"
          ]
        }
      ]
    }
  ]
}